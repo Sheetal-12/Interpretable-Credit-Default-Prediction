{
 "cells": [
  {
   "cell_type": "code",
   "execution_count": 3,
   "metadata": {},
   "outputs": [],
   "source": [
    "import os, json\n",
    "import numpy as np\n",
    "import pandas as pd\n",
    "import matplotlib.pyplot as plt\n",
    "\n",
    "from sklearn.metrics import (\n",
    "    accuracy_score, f1_score, roc_auc_score, precision_recall_curve,\n",
    "    classification_report, confusion_matrix\n",
    ")\n",
    "from sklearn.ensemble import RandomForestClassifier\n",
    "from xgboost import XGBClassifier\n",
    "from catboost import CatBoostClassifier"
   ]
  },
  {
   "cell_type": "code",
   "execution_count": 4,
   "metadata": {},
   "outputs": [],
   "source": [
    "DF_PATH = \"../data/dataproject2025_preprocessed_combined.csv\"\n",
    "df = pd.read_csv(DF_PATH)"
   ]
  },
  {
   "cell_type": "code",
   "execution_count": 5,
   "metadata": {},
   "outputs": [],
   "source": [
    "DROP_FROM_X = [\n",
    "    \"target\",\n",
    "    \"Predicted probabilities\",\n",
    "    \"Predictions\",\n",
    "    \"passthrough__issue_d\",        # time — use for split only\n",
    "    \"passthrough__Pct_afro_american\",\n",
    "    \"passthrough__zip_code\",\n",
    "]"
   ]
  },
  {
   "cell_type": "code",
   "execution_count": 6,
   "metadata": {},
   "outputs": [],
   "source": [
    "FEATURES = [c for c in df.columns if c not in DROP_FROM_X]\n",
    "X = df[FEATURES]\n",
    "y = df[\"target\"].astype(int)"
   ]
  },
  {
   "cell_type": "code",
   "execution_count": 7,
   "metadata": {},
   "outputs": [
    {
     "name": "stdout",
     "output_type": "stream",
     "text": [
      "Years available: [2012 2013 2014 2015 2016 2017 2018 2019 2020]\n"
     ]
    }
   ],
   "source": [
    "# Use year from the passthrough column for time split\n",
    "years = df[\"passthrough__issue_d\"].astype(int)\n",
    "unique_years = np.array(sorted(years.unique()))\n",
    "print(\"Years available:\", unique_years)"
   ]
  },
  {
   "cell_type": "code",
   "execution_count": 8,
   "metadata": {},
   "outputs": [
    {
     "name": "stdout",
     "output_type": "stream",
     "text": [
      "Train years: [2012 2013 2014 2015 2016 2017 2018] Valid year(s): [2019] Test year(s): [2020]\n"
     ]
    }
   ],
   "source": [
    "# Generic rule: train = all but last 2 years; valid = penultimate year; test = last year\n",
    "if len(unique_years) >= 3:\n",
    "    train_years = unique_years[:-2]\n",
    "    valid_years = unique_years[-2:-1]\n",
    "    test_years  = unique_years[-1:]\n",
    "else:\n",
    "    # fallback if fewer than 3 years are present\n",
    "    train_years = unique_years[:1]\n",
    "    valid_years = unique_years[1:2]\n",
    "    test_years  = unique_years[2:3]\n",
    "\n",
    "print(\"Train years:\", train_years, \"Valid year(s):\", valid_years, \"Test year(s):\", test_years)\n"
   ]
  },
  {
   "cell_type": "code",
   "execution_count": 9,
   "metadata": {},
   "outputs": [
    {
     "name": "stdout",
     "output_type": "stream",
     "text": [
      "Shapes -> Train: (1052038, 31) 0.21190774477727992 Valid: (32368, 31) 0.17613074641621354 Test: (1830, 31) 0.006557377049180328\n"
     ]
    }
   ],
   "source": [
    "train_idx = years.isin(train_years)\n",
    "valid_idx = years.isin(valid_years)\n",
    "test_idx  = years.isin(test_years)\n",
    "\n",
    "X_train, y_train = X[train_idx], y[train_idx]\n",
    "X_valid, y_valid = X[valid_idx], y[valid_idx]\n",
    "X_test,  y_test  = X[test_idx],  y[test_idx]\n",
    "\n",
    "print(\"Shapes -> Train:\", X_train.shape, y_train.mean(),\n",
    "      \"Valid:\", X_valid.shape, y_valid.mean(),\n",
    "      \"Test:\",  X_test.shape,  y_test.mean())"
   ]
  },
  {
   "cell_type": "code",
   "execution_count": 10,
   "metadata": {},
   "outputs": [],
   "source": [
    "def evaluate_with_threshold_tuning(model, X_train, y_train, X_valid, y_valid, X_test, y_test, name, proba_from=\"predict_proba\"):\n",
    "    # Class imbalance weight (for models that need it)\n",
    "    neg, pos = np.bincount(y_train)\n",
    "    scale = float(neg / max(pos, 1))\n",
    "\n",
    "    # Fit\n",
    "    model.fit(\n",
    "        X_train.values if hasattr(model, \"get_booster\") else X_train,  # XGB prefers .values\n",
    "        y_train.values if hasattr(model, \"get_booster\") else y_train\n",
    "    )\n",
    "\n",
    "    # Probabilities\n",
    "    if proba_from == \"predict_proba\":\n",
    "        p_valid = model.predict_proba(X_valid.values if hasattr(model, \"get_booster\") else X_valid)[:,1]\n",
    "        p_test  = model.predict_proba(X_test.values  if hasattr(model, \"get_booster\") else X_test)[:,1]\n",
    "    else:  # CatBoost also has predict_proba\n",
    "        p_valid = model.predict_proba(X_valid)[:,1]\n",
    "        p_test  = model.predict_proba(X_test)[:,1]\n",
    "\n",
    "    # 1) default 0.5\n",
    "    yhat_test_05 = (p_test >= 0.5).astype(int)\n",
    "    out_05 = dict(\n",
    "        acc_05 = accuracy_score(y_test, yhat_test_05),\n",
    "        f1_05  = f1_score(y_test, yhat_test_05),\n",
    "        auc    = roc_auc_score(y_test, p_test)\n",
    "    )\n",
    "\n",
    "    # 2) tune threshold on VALID (maximize F1), then evaluate on TEST\n",
    "    prec, rec, thr = precision_recall_curve(y_valid, p_valid)\n",
    "    f1s = 2 * (prec * rec) / (prec + rec + 1e-12)\n",
    "    best_idx = int(np.argmax(f1s))\n",
    "    best_thr = float(thr[best_idx]) if best_idx < len(thr) else 0.5\n",
    "    yhat_test_best = (p_test >= best_thr).astype(int)\n",
    "\n",
    "    out_best = dict(\n",
    "        best_thr = best_thr,\n",
    "        acc_best = accuracy_score(y_test, yhat_test_best),\n",
    "        f1_best  = f1_score(y_test, yhat_test_best),\n",
    "        auc      = roc_auc_score(y_test, p_test)  # AUC does not use threshold\n",
    "    )\n",
    "\n",
    "    # validation AUC for model selection\n",
    "    auc_valid = roc_auc_score(y_valid, p_valid)\n",
    "\n",
    "    return {\n",
    "        \"name\": name,\n",
    "        \"auc_valid\": auc_valid,\n",
    "        **{f\"test_{k}\": v for k, v in out_05.items()},\n",
    "        **{f\"test_{k}\": v for k, v in out_best.items()}\n",
    "    }, model, best_thr\n",
    "\n",
    "results = []\n",
    "models = {}"
   ]
  },
  {
   "cell_type": "code",
   "execution_count": 11,
   "metadata": {},
   "outputs": [],
   "source": [
    "# --- RandomForest (quick baseline)\n",
    "rf = RandomForestClassifier(\n",
    "    n_estimators=300,\n",
    "    max_depth=None,\n",
    "    min_samples_leaf=2,\n",
    "    class_weight=\"balanced\",\n",
    "    n_jobs=-1,\n",
    "    random_state=42\n",
    ")\n",
    "res, m, thr = evaluate_with_threshold_tuning(rf, X_train, y_train, X_valid, y_valid, X_test, y_test, name=\"RandomForest\")\n",
    "results.append(res); models[\"RandomForest\"] = (m, thr)"
   ]
  },
  {
   "cell_type": "code",
   "execution_count": 12,
   "metadata": {},
   "outputs": [],
   "source": [
    "# --- XGBoost\n",
    "neg, pos = np.bincount(y_train)\n",
    "scale = float(neg / max(pos, 1))\n",
    "xgb = XGBClassifier(\n",
    "    n_estimators=800,\n",
    "    learning_rate=0.05,\n",
    "    max_depth=6,\n",
    "    subsample=0.8,\n",
    "    colsample_bytree=0.8,\n",
    "    scale_pos_weight=scale,\n",
    "    tree_method=\"hist\",\n",
    "    n_jobs=-1,\n",
    "    random_state=42,\n",
    "    eval_metric=\"auc\"\n",
    ")\n",
    "res, m, thr = evaluate_with_threshold_tuning(xgb, X_train, y_train, X_valid, y_valid, X_test, y_test, name=\"XGBoost\")\n",
    "results.append(res); models[\"XGBoost\"] = (m, thr)"
   ]
  },
  {
   "cell_type": "code",
   "execution_count": 13,
   "metadata": {},
   "outputs": [
    {
     "name": "stdout",
     "output_type": "stream",
     "text": [
      "0:\ttotal: 155ms\tremaining: 5m 10s\n",
      "200:\ttotal: 19.3s\tremaining: 2m 52s\n",
      "400:\ttotal: 38.4s\tremaining: 2m 33s\n",
      "600:\ttotal: 57.1s\tremaining: 2m 12s\n",
      "800:\ttotal: 1m 15s\tremaining: 1m 52s\n",
      "1000:\ttotal: 1m 32s\tremaining: 1m 32s\n",
      "1200:\ttotal: 1m 51s\tremaining: 1m 14s\n",
      "1400:\ttotal: 2m 16s\tremaining: 58.3s\n",
      "1600:\ttotal: 2m 35s\tremaining: 38.8s\n",
      "1800:\ttotal: 2m 56s\tremaining: 19.5s\n",
      "1999:\ttotal: 3m 16s\tremaining: 0us\n"
     ]
    }
   ],
   "source": [
    "# --- CatBoost\n",
    "cat = CatBoostClassifier(\n",
    "    iterations=2000,\n",
    "    depth=8,\n",
    "    learning_rate=0.05,\n",
    "    loss_function=\"Logloss\",\n",
    "    eval_metric=\"AUC\",\n",
    "    scale_pos_weight=scale,\n",
    "    random_seed=42,\n",
    "    task_type=\"CPU\",\n",
    "    od_type=\"Iter\",\n",
    "    od_wait=200,\n",
    "    verbose=200\n",
    ")\n",
    "res, m, thr = evaluate_with_threshold_tuning(cat, X_train, y_train, X_valid, y_valid, X_test, y_test, name=\"CatBoost\", proba_from=\"predict_proba\")\n",
    "results.append(res); models[\"CatBoost\"] = (m, thr)"
   ]
  },
  {
   "cell_type": "code",
   "execution_count": 14,
   "metadata": {},
   "outputs": [
    {
     "name": "stdout",
     "output_type": "stream",
     "text": [
      "           name  auc_valid  test_acc_05  test_f1_05  test_auc  test_best_thr  \\\n",
      "1       XGBoost   0.711086     0.744262    0.029046  0.638247       0.468718   \n",
      "2      CatBoost   0.710968     0.755191    0.030303  0.662633       0.456362   \n",
      "0  RandomForest   0.693126     0.986339    0.000000  0.624083       0.245668   \n",
      "\n",
      "   test_acc_best  test_f1_best  \n",
      "1       0.702732      0.025090  \n",
      "2       0.703825      0.025180  \n",
      "0       0.673224      0.016447  \n"
     ]
    }
   ],
   "source": [
    "summary = pd.DataFrame(results).sort_values(\"auc_valid\", ascending=False)\n",
    "print(summary)"
   ]
  },
  {
   "cell_type": "code",
   "execution_count": null,
   "metadata": {},
   "outputs": [
    {
     "data": {
      "image/png": "[encoded data removed]",
      "text/plain": [
       "<Figure size 800x500 with 1 Axes>"
      ]
     },
     "metadata": {},
     "output_type": "display_data"
    }
   ],
   "source": [
    "# Plot comparison\n",
    "plt.figure(figsize=(8,5))\n",
    "names = summary[\"name\"].tolist()\n",
    "auc_vals = summary[\"auc_valid\"].tolist()\n",
    "plt.bar(names, auc_vals)\n",
    "plt.title(\"Validation ROC AUC by model\")\n",
    "plt.ylabel(\"AUC (valid)\")\n",
    "plt.show()\n"
   ]
  },
  {
   "cell_type": "code",
   "execution_count": 16,
   "metadata": {},
   "outputs": [
    {
     "name": "stdout",
     "output_type": "stream",
     "text": [
      "Train prevalence: 0.21190774477727992\n",
      "Valid prevalence: 0.17613074641621354\n",
      "Test prevalence : 0.006557377049180328\n",
      "Train/Valid/Test sizes: 1052038 32368 1830\n"
     ]
    }
   ],
   "source": [
    "print(\"Train prevalence:\", y_train.mean())\n",
    "print(\"Valid prevalence:\", y_valid.mean())\n",
    "print(\"Test prevalence :\", y_test.mean())\n",
    "print(\"Train/Valid/Test sizes:\", len(y_train), len(y_valid), len(y_test))\n"
   ]
  },
  {
   "cell_type": "markdown",
   "metadata": {},
   "source": [
    "Our previous time split yielded:\n",
    "\n",
    "Train prevalence ≈ 21%, Valid ≈ 18%, but Test ≈ 0.66% (only ~12 positives in 1,830 cases).\n",
    "\n",
    "A test set with so few positives makes F1 and accuracy unstable and AUC noisy.\n",
    "To get a more reliable evaluation, we redefine the split as:\n",
    "\n",
    "Train = all but the last 3 years\n",
    "\n",
    "Valid = the penultimate year\n",
    "\n",
    "Test = the last 2 years combined\n",
    "This stabilizes the positive rate on the test set while keeping the split strictly chronological (no leakage)."
   ]
  },
  {
   "cell_type": "code",
   "execution_count": 17,
   "metadata": {},
   "outputs": [
    {
     "name": "stdout",
     "output_type": "stream",
     "text": [
      "Years: [2012 2013 2014 2015 2016 2017 2018 2019 2020]\n",
      "Train/Valid/Test sizes: 957145 94893 34198\n",
      "Prevalence -> Train: 0.20750669961186655 Valid: 0.25629920015174984 Test: 0.1670565530147962\n"
     ]
    }
   ],
   "source": [
    "# RE SPLIT\n",
    "\n",
    "unique_years = np.array(sorted(np.unique(years)))\n",
    "assert len(unique_years) >= 4, f\"Need >=4 years, got {unique_years}\"\n",
    "\n",
    "train_years = unique_years[:-3]\n",
    "valid_years = unique_years[-3:-2]\n",
    "test_years  = unique_years[-2:]\n",
    "\n",
    "train_idx = years.isin(train_years)\n",
    "valid_idx = years.isin(valid_years)\n",
    "test_idx  = years.isin(test_years)\n",
    "\n",
    "X_train, y_train = X[train_idx], y[train_idx]\n",
    "X_valid, y_valid = X[valid_idx], y[valid_idx]\n",
    "X_test,  y_test  = X[test_idx],  y[test_idx]\n",
    "\n",
    "print(\"Years:\", unique_years)\n",
    "print(\"Train/Valid/Test sizes:\", len(y_train), len(y_valid), len(y_test))\n",
    "print(\"Prevalence -> Train:\", y_train.mean(), \"Valid:\", y_valid.mean(), \"Test:\", y_test.mean())"
   ]
  },
  {
   "cell_type": "code",
   "execution_count": 18,
   "metadata": {},
   "outputs": [
    {
     "name": "stdout",
     "output_type": "stream",
     "text": [
      "[0]\tvalidation_0-auc:0.68337\n",
      "[200]\tvalidation_0-auc:0.71185\n",
      "[400]\tvalidation_0-auc:0.71476\n",
      "[600]\tvalidation_0-auc:0.71541\n",
      "[799]\tvalidation_0-auc:0.71547\n",
      "XGB valid AUC: 0.7154734226434954\n",
      "XGB test  AUC: 0.7078957233518669\n",
      "XGB test @0.5  Acc=0.718 F1=0.386\n",
      "XGB test @0.455 Acc=0.673 F1=0.384\n",
      "Confusion @best thr:\n",
      " [[19547  8938]\n",
      " [ 2230  3483]]\n"
     ]
    }
   ],
   "source": [
    "# XGBOOST WITH NEW SPLIT\n",
    "# class-imbalance weight from TRAIN\n",
    "neg, pos = np.bincount(y_train)\n",
    "scale = float(neg / max(pos, 1))\n",
    "\n",
    "xgb = XGBClassifier(\n",
    "    n_estimators=800, learning_rate=0.05, max_depth=6,\n",
    "    subsample=0.8, colsample_bytree=0.8, min_child_weight=3,\n",
    "    scale_pos_weight=scale, tree_method=\"hist\", n_jobs=-1,\n",
    "    random_state=42, eval_metric=\"auc\"\n",
    ")\n",
    "\n",
    "xgb.fit(X_train.values, y_train.values,\n",
    "        eval_set=[(X_valid.values, y_valid.values)], verbose=200)\n",
    "\n",
    "p_valid = xgb.predict_proba(X_valid.values)[:, 1]\n",
    "p_test  = xgb.predict_proba(X_test.values)[:, 1]\n",
    "\n",
    "# tune threshold on VALID (maximize F1), then apply to TEST\n",
    "prec, rec, thr = precision_recall_curve(y_valid, p_valid)\n",
    "f1s = 2*(prec*rec)/(prec+rec+1e-12)\n",
    "best_idx = f1s.argmax()\n",
    "best_thr = float(thr[best_idx]) if best_idx < len(thr) else 0.5\n",
    "\n",
    "yhat_05   = (p_test >= 0.5).astype(int)\n",
    "yhat_best = (p_test >= best_thr).astype(int)\n",
    "\n",
    "print(\"XGB valid AUC:\", roc_auc_score(y_valid, p_valid))\n",
    "print(\"XGB test  AUC:\", roc_auc_score(y_test, p_test))\n",
    "print(f\"XGB test @0.5  Acc={accuracy_score(y_test,yhat_05):.3f} F1={f1_score(y_test,yhat_05):.3f}\")\n",
    "print(f\"XGB test @{best_thr:.3f} Acc={accuracy_score(y_test,yhat_best):.3f} F1={f1_score(y_test,yhat_best):.3f}\")\n",
    "print(\"Confusion @best thr:\\n\", confusion_matrix(y_test, yhat_best))"
   ]
  },
  {
   "cell_type": "code",
   "execution_count": 19,
   "metadata": {},
   "outputs": [
    {
     "name": "stdout",
     "output_type": "stream",
     "text": [
      "Cat valid AUC: 0.716352465211565\n",
      "Cat test  AUC: 0.7087549402845937\n",
      "Cat test @0.5  Acc=0.717 F1=0.384\n",
      "Cat test @0.456 Acc=0.676 F1=0.387\n",
      "Confusion @best thr:\n",
      " [[19605  8880]\n",
      " [ 2214  3499]]\n"
     ]
    }
   ],
   "source": [
    "# CATBOOST WITH NEW SPLIT\n",
    "\n",
    "cb = CatBoostClassifier(\n",
    "    iterations=2000, depth=8, learning_rate=0.05, l2_leaf_reg=5,\n",
    "    loss_function=\"Logloss\", eval_metric=\"AUC\",\n",
    "    scale_pos_weight=scale, random_seed=42,\n",
    "    task_type=\"CPU\", od_type=\"Iter\", od_wait=200, verbose=False\n",
    ")\n",
    "\n",
    "cb.fit(X_train, y_train, eval_set=(X_valid, y_valid), use_best_model=True, verbose=False)\n",
    "\n",
    "p_valid = cb.predict_proba(X_valid)[:, 1]\n",
    "p_test  = cb.predict_proba(X_test)[:, 1]\n",
    "\n",
    "prec, rec, thr = precision_recall_curve(y_valid, p_valid)\n",
    "f1s = 2*(prec*rec)/(prec+rec+1e-12)\n",
    "best_idx = f1s.argmax()\n",
    "best_thr = float(thr[best_idx]) if best_idx < len(thr) else 0.5\n",
    "\n",
    "yhat_05   = (p_test >= 0.5).astype(int)\n",
    "yhat_best = (p_test >= best_thr).astype(int)\n",
    "\n",
    "print(\"Cat valid AUC:\", roc_auc_score(y_valid, p_valid))\n",
    "print(\"Cat test  AUC:\", roc_auc_score(y_test, p_test))\n",
    "print(f\"Cat test @0.5  Acc={accuracy_score(y_test,yhat_05):.3f} F1={f1_score(y_test,yhat_05):.3f}\")\n",
    "print(f\"Cat test @{best_thr:.3f} Acc={accuracy_score(y_test,yhat_best):.3f} F1={f1_score(y_test,yhat_best):.3f}\")\n",
    "print(\"Confusion @best thr:\\n\", confusion_matrix(y_test, yhat_best))"
   ]
  },
  {
   "cell_type": "code",
   "execution_count": 20,
   "metadata": {},
   "outputs": [
    {
     "name": "stdout",
     "output_type": "stream",
     "text": [
      "Saved: ../models/step2_catboost_timesplit.pkl\n"
     ]
    }
   ],
   "source": [
    "# SAVE MODEL (pkl)\n",
    "import joblib, os\n",
    "os.makedirs(\"../models\", exist_ok=True)\n",
    "\n",
    "MODEL_PATH = \"../models/step2_catboost_timesplit.pkl\"\n",
    "joblib.dump(cb, MODEL_PATH)\n",
    "print(\"Saved:\", MODEL_PATH)\n"
   ]
  },
  {
   "cell_type": "code",
   "execution_count": 23,
   "metadata": {},
   "outputs": [
    {
     "data": {
      "text/html": [
       "<div>\n",
       "<style scoped>\n",
       "    .dataframe tbody tr th:only-of-type {\n",
       "        vertical-align: middle;\n",
       "    }\n",
       "\n",
       "    .dataframe tbody tr th {\n",
       "        vertical-align: top;\n",
       "    }\n",
       "\n",
       "    .dataframe thead th {\n",
       "        text-align: right;\n",
       "    }\n",
       "</style>\n",
       "<table border=\"1\" class=\"dataframe\">\n",
       "  <thead>\n",
       "    <tr style=\"text-align: right;\">\n",
       "      <th></th>\n",
       "      <th>Predicted probabilities</th>\n",
       "    </tr>\n",
       "  </thead>\n",
       "  <tbody>\n",
       "    <tr>\n",
       "      <th>0</th>\n",
       "      <td>0.283585</td>\n",
       "    </tr>\n",
       "    <tr>\n",
       "      <th>1</th>\n",
       "      <td>0.306796</td>\n",
       "    </tr>\n",
       "    <tr>\n",
       "      <th>2</th>\n",
       "      <td>0.127887</td>\n",
       "    </tr>\n",
       "    <tr>\n",
       "      <th>3</th>\n",
       "      <td>0.180618</td>\n",
       "    </tr>\n",
       "    <tr>\n",
       "      <th>4</th>\n",
       "      <td>0.595798</td>\n",
       "    </tr>\n",
       "    <tr>\n",
       "      <th>5</th>\n",
       "      <td>0.456689</td>\n",
       "    </tr>\n",
       "    <tr>\n",
       "      <th>6</th>\n",
       "      <td>0.802159</td>\n",
       "    </tr>\n",
       "    <tr>\n",
       "      <th>7</th>\n",
       "      <td>0.398354</td>\n",
       "    </tr>\n",
       "    <tr>\n",
       "      <th>8</th>\n",
       "      <td>0.483789</td>\n",
       "    </tr>\n",
       "    <tr>\n",
       "      <th>9</th>\n",
       "      <td>0.257918</td>\n",
       "    </tr>\n",
       "    <tr>\n",
       "      <th>10</th>\n",
       "      <td>0.501122</td>\n",
       "    </tr>\n",
       "    <tr>\n",
       "      <th>11</th>\n",
       "      <td>0.246872</td>\n",
       "    </tr>\n",
       "    <tr>\n",
       "      <th>12</th>\n",
       "      <td>0.568011</td>\n",
       "    </tr>\n",
       "    <tr>\n",
       "      <th>13</th>\n",
       "      <td>0.745926</td>\n",
       "    </tr>\n",
       "    <tr>\n",
       "      <th>14</th>\n",
       "      <td>0.307726</td>\n",
       "    </tr>\n",
       "    <tr>\n",
       "      <th>15</th>\n",
       "      <td>0.409288</td>\n",
       "    </tr>\n",
       "    <tr>\n",
       "      <th>16</th>\n",
       "      <td>0.547454</td>\n",
       "    </tr>\n",
       "    <tr>\n",
       "      <th>17</th>\n",
       "      <td>0.511956</td>\n",
       "    </tr>\n",
       "    <tr>\n",
       "      <th>18</th>\n",
       "      <td>0.580714</td>\n",
       "    </tr>\n",
       "    <tr>\n",
       "      <th>19</th>\n",
       "      <td>0.318732</td>\n",
       "    </tr>\n",
       "  </tbody>\n",
       "</table>\n",
       "</div>"
      ],
      "text/plain": [
       "    Predicted probabilities\n",
       "0                  0.283585\n",
       "1                  0.306796\n",
       "2                  0.127887\n",
       "3                  0.180618\n",
       "4                  0.595798\n",
       "5                  0.456689\n",
       "6                  0.802159\n",
       "7                  0.398354\n",
       "8                  0.483789\n",
       "9                  0.257918\n",
       "10                 0.501122\n",
       "11                 0.246872\n",
       "12                 0.568011\n",
       "13                 0.745926\n",
       "14                 0.307726\n",
       "15                 0.409288\n",
       "16                 0.547454\n",
       "17                 0.511956\n",
       "18                 0.580714\n",
       "19                 0.318732"
      ]
     },
     "execution_count": 23,
     "metadata": {},
     "output_type": "execute_result"
    }
   ],
   "source": [
    "# Compute probabilities on the whole dataset\n",
    "proba_all = cb.predict_proba(X)[:, 1]\n",
    "\n",
    "# Show the first few probabilities\n",
    "pd.DataFrame({\n",
    "    \"Predicted probabilities\": proba_all\n",
    "}).head(20)"
   ]
  },
  {
   "cell_type": "code",
   "execution_count": null,
   "metadata": {},
   "outputs": [],
   "source": [
    "# save other necessary variables in pkl file\n",
    "# Save them in pkl file\n",
    "os.makedirs(\"../models\", exist_ok=True)\n",
    "\n",
    "dict_var = {\"X_test\" : X_test, \"y_test\" : y_test, \"y_pred_test\" : yhat_05, \"y_proba\" : p_test}\n",
    "MODEL_PATH = \"../models/needed_variables.pkl\"\n",
    "joblib.dump(dict_var, MODEL_PATH)\n",
    "print(\"Saved:\", MODEL_PATH)"
   ]
  },
  {
   "cell_type": "code",
   "execution_count": null,
   "metadata": {},
   "outputs": [],
   "source": [
    "# save other necessary variables in pkl file\n",
    "# Save them in pkl file\n",
    "os.makedirs(\"../models\", exist_ok=True)\n",
    "\n",
    "dict_var = { \"X_train\" : X_train, \"y_train\" : y_train}\n",
    "MODEL_PATH = \"../models/needed_variables2.pkl\"\n",
    "joblib.dump(dict_var, MODEL_PATH)\n",
    "print(\"Saved:\", MODEL_PATH)"
   ]
  }
 ],
 "metadata": {
  "kernelspec": {
   "display_name": "Python (icdp)",
   "language": "python",
   "name": "icdp"
  },
  "language_info": {
   "codemirror_mode": {
    "name": "ipython",
    "version": 3
   },
   "file_extension": ".py",
   "mimetype": "text/x-python",
   "name": "python",
   "nbconvert_exporter": "python",
   "pygments_lexer": "ipython3",
   "version": "3.12.7"
  }
 },
 "nbformat": 4,
 "nbformat_minor": 2
}
